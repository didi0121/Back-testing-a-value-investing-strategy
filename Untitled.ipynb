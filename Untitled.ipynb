{
 "cells": [
  {
   "cell_type": "code",
   "execution_count": 46,
   "id": "2a491e29",
   "metadata": {},
   "outputs": [],
   "source": [
    "import pandas as pd\n",
    "import matplotlib.pyplot as plt"
   ]
  },
  {
   "cell_type": "code",
   "execution_count": 47,
   "id": "6289f2cc",
   "metadata": {},
   "outputs": [],
   "source": [
    "# Load the dataset from our downloaded datasets:"
   ]
  },
  {
   "cell_type": "code",
   "execution_count": 48,
   "id": "49f4bf51",
   "metadata": {},
   "outputs": [],
   "source": [
    "df_accounting = pd.read_csv('Accounting.csv')\n",
    "df_stock = pd.read_csv('Stock.csv')"
   ]
  },
  {
   "cell_type": "code",
   "execution_count": 49,
   "id": "e89a9472",
   "metadata": {},
   "outputs": [],
   "source": [
    "# Clean accounting data and calculate book equity:"
   ]
  },
  {
   "cell_type": "code",
   "execution_count": 50,
   "id": "a27c500b",
   "metadata": {},
   "outputs": [],
   "source": [
    "df_accounting = df_accounting[(df_accounting['fic'] == 'USA') & (df_accounting['seq'].notna())]"
   ]
  },
  {
   "cell_type": "code",
   "execution_count": 51,
   "id": "feb0f0df",
   "metadata": {},
   "outputs": [],
   "source": [
    "df_accounting['pstkrv'].fillna(0, inplace=True)\n",
    "df_accounting['book_equity'] = df_accounting['seq'] - df_accounting['pstkrv']"
   ]
  },
  {
   "cell_type": "code",
   "execution_count": 52,
   "id": "72d94913",
   "metadata": {},
   "outputs": [],
   "source": [
    "# Clean stock price data and calculate market equity:"
   ]
  },
  {
   "cell_type": "code",
   "execution_count": 53,
   "id": "94f7df92",
   "metadata": {},
   "outputs": [],
   "source": [
    "df_stock = df_stock[(df_stock['SHRCD'].isin([10, 11])) & (df_stock['EXCHCD'] <= 3)\n",
    "                    & (df_stock['PRC'].notna()) & (df_stock['SHROUT'].notna()) & (df_stock['RET'].notna())]"
   ]
  },
  {
   "cell_type": "code",
   "execution_count": 54,
   "id": "86f25aea",
   "metadata": {},
   "outputs": [],
   "source": [
    "df_stock['abs_PRC'] = df_stock['PRC'].abs()\n",
    "df_stock['market_equity'] = df_stock['abs_PRC'] * df_stock['SHROUT']"
   ]
  },
  {
   "cell_type": "code",
   "execution_count": 55,
   "id": "aefb35eb",
   "metadata": {},
   "outputs": [],
   "source": [
    "df_accounting_1 = df_accounting.copy()\n",
    "df_stock_1 = df_stock.copy()"
   ]
  },
  {
   "cell_type": "code",
   "execution_count": 56,
   "id": "9ae52bc2",
   "metadata": {},
   "outputs": [],
   "source": [
    "df_accounting_1.set_index('datadate', inplace=True)\n",
    "df_stock_1.set_index('date', inplace=True)"
   ]
  },
  {
   "cell_type": "code",
   "execution_count": 57,
   "id": "aaea5a28",
   "metadata": {},
   "outputs": [],
   "source": [
    "df_accounting_1['monthend_acc'] = pd.to_datetime(df_accounting_1.index).to_period('M')\n",
    "df_stock_1['monthend_stc'] = pd.to_datetime(df_stock_1.index).to_period('M')"
   ]
  },
  {
   "cell_type": "code",
   "execution_count": 58,
   "id": "5116eb9b",
   "metadata": {},
   "outputs": [],
   "source": [
    "df_merged = pd.merge(df_accounting_1, df_stock_1, how='inner', left_on=['LPERMNO', 'monthend_acc'],\n",
    "                     right_on=['PERMNO', 'monthend_stc'])"
   ]
  },
  {
   "cell_type": "code",
   "execution_count": 59,
   "id": "cf7a32b3",
   "metadata": {},
   "outputs": [],
   "source": [
    "df_merged['BTM'] = df_merged['book_equity']/df_merged['market_equity']"
   ]
  },
  {
   "cell_type": "code",
   "execution_count": 60,
   "id": "91ad208d",
   "metadata": {},
   "outputs": [],
   "source": [
    "# Identify top and bottom quartile of the 2012 distribution."
   ]
  },
  {
   "cell_type": "code",
   "execution_count": 61,
   "id": "d8633269",
   "metadata": {},
   "outputs": [],
   "source": [
    "df_merged.set_index('monthend_stc', inplace=True)"
   ]
  },
  {
   "cell_type": "code",
   "execution_count": 62,
   "id": "d3bc5879",
   "metadata": {},
   "outputs": [
    {
     "name": "stderr",
     "output_type": "stream",
     "text": [
      "C:\\Users\\Julia Han\\AppData\\Local\\Temp\\ipykernel_7756\\3282230946.py:5: SettingWithCopyWarning: \n",
      "A value is trying to be set on a copy of a slice from a DataFrame.\n",
      "Try using .loc[row_indexer,col_indexer] = value instead\n",
      "\n",
      "See the caveats in the documentation: https://pandas.pydata.org/pandas-docs/stable/user_guide/indexing.html#returning-a-view-versus-a-copy\n",
      "  data_2012['end_2012_portfolio'] = pd.cut(data_2012['BTM'],\n"
     ]
    }
   ],
   "source": [
    "data_new = df_merged[df_merged.index.month == 12]\n",
    "data_2012 = data_new[data_new.index.year == 2012]\n",
    "top_25_12 = data_2012['BTM'].quantile(0.75)\n",
    "bottom_25_12 = data_2012['BTM'].quantile(0.25)\n",
    "data_2012['end_2012_portfolio'] = pd.cut(data_2012['BTM'],\n",
    "                                             bins=[-float('inf'), bottom_25_12, top_25_12, float('inf')],\n",
    "                                             labels=['Growth', 'Neutral', 'Value'])"
   ]
  },
  {
   "cell_type": "code",
   "execution_count": 63,
   "id": "0612ca7b",
   "metadata": {},
   "outputs": [],
   "source": [
    "# Print the top 10 largest (by market equity) value companies and top 10 growth:"
   ]
  },
  {
   "cell_type": "code",
   "execution_count": 64,
   "id": "1a506603",
   "metadata": {},
   "outputs": [],
   "source": [
    "top_10_value_2012 = data_2012[data_2012['end_2012_portfolio'] == 'Value'].nlargest(10, 'BTM')\n",
    "top_10_growth_2012 = data_2012[data_2012['end_2012_portfolio'] == 'Growth'].nlargest(10, 'BTM')"
   ]
  },
  {
   "cell_type": "code",
   "execution_count": 65,
   "id": "d51a01d8",
   "metadata": {},
   "outputs": [
    {
     "name": "stdout",
     "output_type": "stream",
     "text": [
      "                                   conm       BTM\n",
      "monthend_stc                                     \n",
      "2012-12                   URBAN ONE INC  0.073560\n",
      "2012-12        MOLSON COORS BEVERAGE CO  0.033963\n",
      "2012-12       CHINA PHARMA HOLDINGS INC  0.016871\n",
      "2012-12             GRAY TELEVISION INC  0.014379\n",
      "2012-12       WARNER BROS DISCOVERY INC  0.014119\n",
      "2012-12       KELLY SERVICES INC  -CL A  0.013320\n",
      "2012-12         READING INTL INC  -CL A  0.012571\n",
      "2012-12               QURATE RETAIL INC  0.012423\n",
      "2012-12           CHINA YIDA HOLDING CO  0.012170\n",
      "2012-12       ANDATEE CHINA MARINE FUEL  0.011899\n"
     ]
    }
   ],
   "source": [
    "print(top_10_value_2012[['conm', 'BTM']])"
   ]
  },
  {
   "cell_type": "code",
   "execution_count": 66,
   "id": "ea3ab5a6",
   "metadata": {},
   "outputs": [
    {
     "name": "stdout",
     "output_type": "stream",
     "text": [
      "                                    conm       BTM\n",
      "monthend_stc                                      \n",
      "2012-12           UNIVERSAL DISPLAY CORP  0.000294\n",
      "2012-12              AMERICAN EXPRESS CO  0.000294\n",
      "2012-12                     EXPONENT INC  0.000294\n",
      "2012-12                 VITACOST.COM INC  0.000293\n",
      "2012-12                   STAMPS.COM INC  0.000293\n",
      "2012-12               VIRTUALSCOPICS INC  0.000293\n",
      "2012-12                        AMGEN INC  0.000292\n",
      "2012-12           TRIUS THERAPEUTICS INC  0.000292\n",
      "2012-12       SAGENT PHARMACEUTICALS INC  0.000291\n",
      "2012-12                   MSA SAFETY INC  0.000291\n"
     ]
    }
   ],
   "source": [
    "print(top_10_growth_2012[['conm', 'BTM']])"
   ]
  },
  {
   "cell_type": "code",
   "execution_count": 67,
   "id": "9cab68c7",
   "metadata": {},
   "outputs": [],
   "source": [
    "# Combine with monthly stock return data starting in January 2013 and calculate monthly returns until December 2021:"
   ]
  },
  {
   "cell_type": "code",
   "execution_count": 68,
   "id": "f3c9613e",
   "metadata": {},
   "outputs": [],
   "source": [
    "df_stock_old = df_stock\n",
    "df_accounting_old = df_accounting.rename(columns={'datadate': 'date'})\n",
    "df_accounting_old = df_accounting_old[['LPERMNO','date','fic','seq','pstkrv','conm','book_equity']]\n",
    "df_accounting_old['date'] = pd.to_datetime(df_accounting_old['date'])\n",
    "df_stock_old['date'] = pd.to_datetime(df_stock_old['date'])\n",
    "df_accounting_old['year'] = df_accounting_old['date'].dt.to_period('Y')\n",
    "df_stock_old['year'] = df_stock_old['date'].dt.to_period('Y')"
   ]
  },
  {
   "cell_type": "code",
   "execution_count": 69,
   "id": "f5e095cc",
   "metadata": {},
   "outputs": [],
   "source": [
    "df = df_stock_old.loc[df_stock_old['year'].dt.year == 2012,:].copy()\n",
    "df.sort_values(['date'], inplace=True)"
   ]
  },
  {
   "cell_type": "code",
   "execution_count": 70,
   "id": "171115c5",
   "metadata": {},
   "outputs": [],
   "source": [
    "df_merged_1 = pd.merge(df, df_accounting_old, how='inner', left_on=['PERMNO', 'year'],\n",
    "                     right_on=['LPERMNO', 'year'])\n",
    "df_merged_1['BTM'] = df_merged_1['book_equity']/df_merged_1['market_equity']\n"
   ]
  },
  {
   "cell_type": "code",
   "execution_count": 71,
   "id": "b45aa27e",
   "metadata": {},
   "outputs": [],
   "source": [
    "def get_growth(x):\n",
    "    return x.quantile(0.25)\n",
    "\n",
    "def get_value(x):\n",
    "    return x.quantile(0.75)"
   ]
  },
  {
   "cell_type": "code",
   "execution_count": 72,
   "id": "2f370405",
   "metadata": {},
   "outputs": [
    {
     "data": {
      "text/html": [
       "<div>\n",
       "<style scoped>\n",
       "    .dataframe tbody tr th:only-of-type {\n",
       "        vertical-align: middle;\n",
       "    }\n",
       "\n",
       "    .dataframe tbody tr th {\n",
       "        vertical-align: top;\n",
       "    }\n",
       "\n",
       "    .dataframe thead th {\n",
       "        text-align: right;\n",
       "    }\n",
       "</style>\n",
       "<table border=\"1\" class=\"dataframe\">\n",
       "  <thead>\n",
       "    <tr style=\"text-align: right;\">\n",
       "      <th></th>\n",
       "      <th>get_growth</th>\n",
       "      <th>get_value</th>\n",
       "    </tr>\n",
       "    <tr>\n",
       "      <th>date_x</th>\n",
       "      <th></th>\n",
       "      <th></th>\n",
       "    </tr>\n",
       "  </thead>\n",
       "  <tbody>\n",
       "    <tr>\n",
       "      <th>2012-12-31</th>\n",
       "      <td>0.000297</td>\n",
       "      <td>0.000992</td>\n",
       "    </tr>\n",
       "  </tbody>\n",
       "</table>\n",
       "</div>"
      ],
      "text/plain": [
       "            get_growth  get_value\n",
       "date_x                           \n",
       "2012-12-31    0.000297   0.000992"
      ]
     },
     "execution_count": 72,
     "metadata": {},
     "output_type": "execute_result"
    }
   ],
   "source": [
    "dfpercentiles = df_merged_1.groupby('date_x')['BTM'].agg([get_growth, get_value])\n",
    "dfpercentiles"
   ]
  },
  {
   "cell_type": "code",
   "execution_count": 73,
   "id": "1bd4a73f",
   "metadata": {},
   "outputs": [],
   "source": [
    "df_merged_1 = df_merged_1.merge(dfpercentiles, how='left', on='date_x')\n",
    "df_merged_1['company_type'] = 'Neutral'\n",
    "df_merged_1.loc[df_merged_1['BTM'] <= df_merged_1['get_growth'], 'company_type'] = 'Growth'\n",
    "df_merged_1.loc[df_merged_1['BTM'] >= df_merged_1['get_value'], 'company_type'] = 'Value'\n",
    "df_merged_1 = df_merged_1.rename(columns={'date_x': 'date'})"
   ]
  },
  {
   "cell_type": "code",
   "execution_count": 74,
   "id": "22e2b6f5",
   "metadata": {},
   "outputs": [],
   "source": [
    "df_stock_old.sort_values(['date','PERMNO'], inplace=True)\n",
    "dfstocks = pd.merge_asof(df_stock_old, df_merged_1[['date', 'PERMNO', 'company_type']], \n",
    "    on='date', \n",
    "    by='PERMNO', \n",
    "    direction='backward',\n",
    "    allow_exact_matches=False)\n",
    "dfstocks.sort_values(['PERMNO','date'], inplace=True)"
   ]
  },
  {
   "cell_type": "code",
   "execution_count": 75,
   "id": "a2bcf23b",
   "metadata": {},
   "outputs": [],
   "source": [
    "date_company_counts = dfstocks.groupby(['date', 'company_type']).size().unstack()"
   ]
  },
  {
   "cell_type": "code",
   "execution_count": 76,
   "id": "e80cad89",
   "metadata": {},
   "outputs": [],
   "source": [
    "dfstocks['RET'] = pd.to_numeric(dfstocks['RET'], errors='coerce')\n",
    "filtered_data = dfstocks[(dfstocks['date'] >= '2013-1') & (dfstocks['date'] <= '2021-12')]\n",
    "value_portfolio_returns = dfstocks[dfstocks['company_type'] == 'Value'].groupby('date')['RET'].mean()\n",
    "growth_portfolio_returns = dfstocks[dfstocks['company_type'] == 'Growth'].groupby('date')['RET'].mean()"
   ]
  },
  {
   "cell_type": "code",
   "execution_count": 77,
   "id": "0f499ae8",
   "metadata": {},
   "outputs": [],
   "source": [
    "cumulative_value_returns = (1 + value_portfolio_returns).cumprod()\n",
    "cumulative_growth_returns = (1 + growth_portfolio_returns).cumprod()"
   ]
  },
  {
   "cell_type": "code",
   "execution_count": 78,
   "id": "84ec74dd",
   "metadata": {},
   "outputs": [
    {
     "data": {
      "image/png": "[encoded data removed]",
      "text/plain": [
       "<Figure size 1000x600 with 1 Axes>"
      ]
     },
     "metadata": {},
     "output_type": "display_data"
    }
   ],
   "source": [
    "plt.figure(figsize=(10, 6))\n",
    "plt.plot(cumulative_value_returns.index, cumulative_value_returns, label='cumulative_value_returns')\n",
    "plt.plot(cumulative_growth_returns.index, cumulative_growth_returns, label='cumulative_growth_returns')\n",
    "plt.title('Portfolio Returns Over Time')\n",
    "plt.xlabel('Date')\n",
    "plt.ylabel('Returns')\n",
    "plt.legend()\n",
    "plt.show()"
   ]
  },
  {
   "cell_type": "markdown",
   "id": "ecc3eccc",
   "metadata": {},
   "source": [
    "As time went, book-to-market ratios changed. Some stocks that were growth stocks have since probably become value. The opposite is less likely but still possible."
   ]
  },
  {
   "cell_type": "code",
   "execution_count": 79,
   "id": "b752b1eb",
   "metadata": {},
   "outputs": [
    {
     "name": "stderr",
     "output_type": "stream",
     "text": [
      "C:\\Users\\Julia Han\\AppData\\Local\\Temp\\ipykernel_7756\\926333874.py:4: SettingWithCopyWarning: \n",
      "A value is trying to be set on a copy of a slice from a DataFrame.\n",
      "Try using .loc[row_indexer,col_indexer] = value instead\n",
      "\n",
      "See the caveats in the documentation: https://pandas.pydata.org/pandas-docs/stable/user_guide/indexing.html#returning-a-view-versus-a-copy\n",
      "  data_2021['end_2021_portfolio'] = pd.cut(data_2021['BTM'],\n"
     ]
    }
   ],
   "source": [
    "data_2021 = df_merged[df_merged.index.year == 2021]\n",
    "top_25_21 = data_2021['BTM'].quantile(0.75)\n",
    "bottom_25_21 = data_2021['BTM'].quantile(0.25)\n",
    "data_2021['end_2021_portfolio'] = pd.cut(data_2021['BTM'],\n",
    "                                             bins=[-float('inf'), bottom_25_21, top_25_21, float('inf')],\n",
    "                                             labels=['Growth', 'Neutral', 'Value'])"
   ]
  },
  {
   "cell_type": "code",
   "execution_count": 80,
   "id": "d1e40b30",
   "metadata": {},
   "outputs": [],
   "source": [
    "combined_data = data_2012.merge(data_2021,on=['conm'], how='outer')\n",
    "combined_data['end_2012_portfolio'] = combined_data['end_2012_portfolio'].cat.add_categories('DNE')\n",
    "combined_data['end_2021_portfolio'] = combined_data['end_2021_portfolio'].cat.add_categories('DNE')\n",
    "combined_data['end_2012_portfolio'].fillna('DNE', inplace=True)\n",
    "combined_data['end_2021_portfolio'].fillna('DNE', inplace=True)"
   ]
  },
  {
   "cell_type": "code",
   "execution_count": 81,
   "id": "69eb602f",
   "metadata": {},
   "outputs": [
    {
     "name": "stdout",
     "output_type": "stream",
     "text": [
      "end_2021_portfolio  Growth  Neutral  Value  DNE\n",
      "end_2012_portfolio                             \n",
      "Growth                 185      150     31  296\n",
      "Neutral                116      498    208  512\n",
      "Value                   15      113    243  318\n",
      "DNE                    676     1225    542    0\n"
     ]
    }
   ],
   "source": [
    "cross_tab = pd.crosstab(combined_data['end_2012_portfolio'], combined_data['end_2021_portfolio'], dropna=False)\n",
    "print(cross_tab)"
   ]
  },
  {
   "cell_type": "markdown",
   "id": "9b3da1fc",
   "metadata": {},
   "source": [
    "From the cross_tab, we see that 150 \"growth\" stocks in 2012 changed the category into \"neutral\", 31 \"growth\" stocks in 2012 changed into \"value\" in 2021, 296 \"growth\" stocks didn't exist in 2021.\n",
    "\n",
    "Therefore, 633 stocks changed categories\n",
    "\n",
    "1457 firms from 2012 are still around in 2021\n",
    "\n",
    "2443 new firms show up\n",
    "\n",
    "This shows the difference between a portfolio and an investment strategy. If we have a view about the performance of value vs. growth firms, we should not just implemente it once and buy-and-hold forever. We should continually reassess whether our portfolio -- a collection of long and short positions in specific firms -- is consistent with that view and adjust it accordingly."
   ]
  },
  {
   "cell_type": "code",
   "execution_count": null,
   "id": "5166c6f0",
   "metadata": {},
   "outputs": [],
   "source": []
  }
 ],
 "metadata": {
  "kernelspec": {
   "display_name": "Python 3 (ipykernel)",
   "language": "python",
   "name": "python3"
  },
  "language_info": {
   "codemirror_mode": {
    "name": "ipython",
    "version": 3
   },
   "file_extension": ".py",
   "mimetype": "text/x-python",
   "name": "python",
   "nbconvert_exporter": "python",
   "pygments_lexer": "ipython3",
   "version": "3.11.4"
  }
 },
 "nbformat": 4,
 "nbformat_minor": 5
}
